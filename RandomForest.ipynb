{
 "cells": [
  {
   "cell_type": "code",
   "execution_count": 2,
   "id": "bd82510a",
   "metadata": {},
   "outputs": [],
   "source": [
    "import pandas as pd\n",
    "import numpy as np\n",
    "\n",
    "df = pd.read_csv(\"final_data_half.csv\",low_memory=False)"
   ]
  },
  {
   "cell_type": "code",
   "execution_count": 3,
   "id": "928f1b35",
   "metadata": {},
   "outputs": [],
   "source": [
    "from sklearn.model_selection import train_test_split\n",
    "\n",
    "# Define the proportion of data for each set\n",
    "test_size = 0.2  # 20% of the data for testing\n",
    "val_size = 0.2   # 20% of the data for validation\n",
    "train_size = 1 - (test_size + val_size)  # Remaining data for training\n",
    "\n",
    "# Split the data into train-validation-test sets\n",
    "train_val_df, test_df = train_test_split(df, test_size=test_size, random_state=42)\n",
    "\n",
    "# Calculate the adjusted validation size based on the remaining data after test split\n",
    "adjusted_val_size = val_size / (train_size + val_size - test_size)\n",
    "\n",
    "# Split the train-validation set into train and validation sets\n",
    "train_df, val_df = train_test_split(train_val_df, test_size=adjusted_val_size, random_state=42)\n"
   ]
  },
  {
   "cell_type": "code",
   "execution_count": 11,
   "id": "94f5d3f0",
   "metadata": {},
   "outputs": [
    {
     "name": "stdout",
     "output_type": "stream",
     "text": [
      "[[(24, 15), 0.012379184674509155]]\n"
     ]
    }
   ],
   "source": [
    "from sklearn.ensemble import RandomForestRegressor\n",
    "from sklearn.metrics import mean_squared_error\n",
    "\n",
    "# Specify the feature columns and the target column\n",
    "feature_columns = ['station_id', 'year', 'month', 'day', 'hour','weekday',\n",
    "       'occupation_1h_before', 'occupation_2h_before', 'occupation_3h_before',\n",
    "       'occupation_4h_before']  \n",
    "target_column = 'occupation'  \n",
    "\n",
    "# Separate the features and the target\n",
    "X_train = train_df[feature_columns]\n",
    "y_train = train_df[target_column]\n",
    "# Validate the model with the validation df\n",
    "X_val = val_df[feature_columns]\n",
    "y_val = val_df[target_column]\n",
    "\n",
    "n_estimators = [24]\n",
    "max_depths = 15\n",
    "\n",
    "result =[]\n",
    "\n",
    "# Create an instance of the Random Forest model\n",
    "model = RandomForestRegressor(n_estimators=n_est, random_state=42,\n",
    "                      criterion='squared_error',max_depth = max_depths)\n",
    "# Train the linear model\n",
    "model.fit(X_train, y_train)\n",
    "\n",
    "y_val_pred = model.predict(X_val)\n",
    "\n",
    "# Calculate evaluation metrics\n",
    "mse = mean_squared_error(y_val, y_val_pred)\n",
    "\n",
    "        \n",
    "print(result)\n",
    "\n",
    "###[[(25, 5), 0.013951703188986222], [(30, 5), 0.013953110885601626], [(35, 5), 0.013955778977497635], [(40, 5), 0.013954656295088592]]\n",
    "###[[(20, 6), 0.013504878249341169], [(25, 6), 0.013506441058236222], [(30, 6), 0.013507098722289695], [(35, 6), 0.013508342630545622]]\n",
    "###[[(22, 8), 0.012997172817037009], [(23, 8), 0.012997331067489487], [(24, 8), 0.012996490557431385], [(25, 8), 0.012998011384284996], [(26, 8), 0.012997558803925946]]\n",
    "###[[(24, 15), 0.012379184674509155]]"
   ]
  },
  {
   "cell_type": "code",
   "execution_count": 12,
   "id": "f30c8c95",
   "metadata": {},
   "outputs": [
    {
     "name": "stdout",
     "output_type": "stream",
     "text": [
      "Mean Squared Error (MSE): 0.012303676831612263\n"
     ]
    }
   ],
   "source": [
    "# Validate the model with the test df\n",
    "X_test = test_df[feature_columns]\n",
    "y_test = test_df[target_column]\n",
    "\n",
    "y_test_pred = model.predict(X_test)\n",
    "\n",
    "# Calculate evaluation metrics\n",
    "mse = mean_squared_error(y_test, y_test_pred)\n",
    "\n",
    "# Print the evaluation metrics\n",
    "print(\"Mean Squared Error (MSE):\", mse)\n",
    "\n",
    "\n",
    "#results (n_estimators = 100, max_depth=2, random_state=42)\n",
    "#Mean Squared Error (MSE): 0.018518956622416552\n",
    "#RMSE: 0.13608437317494082\n",
    "\n",
    "#RandomForestRegressor(max_depth=15, n_estimators=24)\n",
    "#Mean Squared Error (MSE): 0.015510815928591175\n",
    "#RMSE: 0.12454242621930559\n"
   ]
  },
  {
   "cell_type": "code",
   "execution_count": null,
   "id": "1a38f602",
   "metadata": {},
   "outputs": [],
   "source": []
  }
 ],
 "metadata": {
  "kernelspec": {
   "display_name": "Python 3 (ipykernel)",
   "language": "python",
   "name": "python3"
  },
  "language_info": {
   "codemirror_mode": {
    "name": "ipython",
    "version": 3
   },
   "file_extension": ".py",
   "mimetype": "text/x-python",
   "name": "python",
   "nbconvert_exporter": "python",
   "pygments_lexer": "ipython3",
   "version": "3.9.12"
  }
 },
 "nbformat": 4,
 "nbformat_minor": 5
}
