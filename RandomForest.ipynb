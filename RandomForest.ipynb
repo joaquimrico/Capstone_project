{
  "cells": [
    {
      "cell_type": "code",
      "execution_count": 51,
      "id": "bd82510a",
      "metadata": {
        "id": "bd82510a"
      },
      "outputs": [],
      "source": [
        "import pandas as pd\n",
        "import numpy as np\n",
        "\n",
        "df = pd.read_csv(\"TrainingSet.csv\",low_memory=False)\n",
        "df = df.rename(columns={\"occupation_1h_before\": \"ctx-1\", \"occupation_2h_before\": \"ctx-2\",\n",
        "                   \"occupation_3h_before\": \"ctx-3\",\"occupation_4h_before\": \"ctx-4\",\n",
        "                   \"occupation\":\"percentage_docks_available\",\"VALOR_LECTURA\":\"rainPerSqMeter\"})\n",
        "df.columns\n",
        "\n",
        "df = pd.DataFrame(data=df)"
      ]
    },
    {
      "cell_type": "code",
      "source": [
        "df['date'] = pd.to_datetime(df[['year', 'month', 'day']])\n",
        "df['weekday'] = df['date'].dt.weekday\n"
      ],
      "metadata": {
        "id": "C6qWVVGhKPnz"
      },
      "id": "C6qWVVGhKPnz",
      "execution_count": 52,
      "outputs": []
    },
    {
      "cell_type": "code",
      "source": [
        "df.columns"
      ],
      "metadata": {
        "colab": {
          "base_uri": "https://localhost:8080/"
        },
        "id": "2pDcdBQpM_Hu",
        "outputId": "42846a1c-fcc6-4b4f-92a5-7b9476de8b65"
      },
      "id": "2pDcdBQpM_Hu",
      "execution_count": 53,
      "outputs": [
        {
          "output_type": "execute_result",
          "data": {
            "text/plain": [
              "Index(['station_id', 'year', 'month', 'day', 'hour',\n",
              "       'percentage_docks_available', 'ctx-1', 'ctx-2', 'ctx-3', 'ctx-4',\n",
              "       'rainPerSqMeter', 'holiday', 'date', 'weekday'],\n",
              "      dtype='object')"
            ]
          },
          "metadata": {},
          "execution_count": 53
        }
      ]
    },
    {
      "cell_type": "code",
      "execution_count": 54,
      "id": "928f1b35",
      "metadata": {
        "id": "928f1b35"
      },
      "outputs": [],
      "source": [
        "from sklearn.model_selection import train_test_split\n",
        "\n",
        "# Define the proportion of data for each set\n",
        "test_size = 0.2  # 20% of the data for testing\n",
        "val_size = 0.2   # 20% of the data for validation\n",
        "train_size = 1 - (test_size + val_size)  # Remaining data for training\n",
        "\n",
        "# Split the data into train-validation-test sets\n",
        "train_val_df, test_df = train_test_split(df, test_size=test_size, random_state=42)\n",
        "\n",
        "# Calculate the adjusted validation size based on the remaining data after test split\n",
        "adjusted_val_size = val_size / (train_size + val_size - test_size)\n",
        "\n",
        "# Split the train-validation set into train and validation sets\n",
        "train_df, val_df = train_test_split(train_val_df, test_size=adjusted_val_size, random_state=42)\n"
      ]
    },
    {
      "cell_type": "code",
      "source": [
        "train_df = pd.DataFrame(data=train_df)\n",
        "val_df = pd.DataFrame(data=val_df)\n",
        "test_df = pd.DataFrame(data=test_df)\n",
        "\n",
        "train_df = train_df.dropna()\n",
        "test_df = test_df.dropna()\n",
        "val_df = val_df.dropna()"
      ],
      "metadata": {
        "id": "-xAtEf0RIliy"
      },
      "id": "-xAtEf0RIliy",
      "execution_count": 55,
      "outputs": []
    },
    {
      "cell_type": "code",
      "source": [
        "print(train_df.shape)\n",
        "print(test_df.shape)\n",
        "print(val_df.shape)"
      ],
      "metadata": {
        "colab": {
          "base_uri": "https://localhost:8080/"
        },
        "id": "S06tjSBANGpL",
        "outputId": "b673d08b-ce0b-4df0-cb1d-002f9aab2d95"
      },
      "id": "S06tjSBANGpL",
      "execution_count": 56,
      "outputs": [
        {
          "output_type": "stream",
          "name": "stdout",
          "text": [
            "(3946200, 14)\n",
            "(1479825, 14)\n",
            "(1973099, 14)\n"
          ]
        }
      ]
    },
    {
      "cell_type": "code",
      "execution_count": 57,
      "id": "94f5d3f0",
      "metadata": {
        "colab": {
          "base_uri": "https://localhost:8080/"
        },
        "id": "94f5d3f0",
        "outputId": "1640b160-c5af-408e-8a37-504a1e8a7baa"
      },
      "outputs": [
        {
          "output_type": "stream",
          "name": "stdout",
          "text": [
            "0.012247827572417332\n"
          ]
        }
      ],
      "source": [
        "from sklearn.ensemble import RandomForestRegressor\n",
        "from sklearn.metrics import mean_squared_error\n",
        "\n",
        "# Specify the feature columns and the target column\n",
        "feature_columns = ['station_id', 'year', 'month', 'day', 'hour',\n",
        "       'ctx-4', 'ctx-3', 'ctx-2', 'ctx-1','rainPerSqMeter','holiday','weekday']  \n",
        "target_column = 'percentage_docks_available'  \n",
        "\n",
        "# Separate the features and the target\n",
        "X_train = train_df[feature_columns]\n",
        "y_train = train_df[target_column]\n",
        "# Validate the model with the validation df\n",
        "X_val = val_df[feature_columns]\n",
        "y_val = val_df[target_column]\n",
        "\n",
        "n_est = 24\n",
        "maxDep = 15\n",
        "\n",
        "# Create an instance of the Random Forest model\n",
        "model = RandomForestRegressor(n_estimators=n_est, random_state=42,\n",
        "                      criterion='squared_error',max_depth = maxDep)\n",
        "# Train the linear model\n",
        "model.fit(X_train, y_train)\n",
        "\n",
        "y_val_pred = model.predict(X_val)\n",
        "\n",
        "# Calculate evaluation metrics\n",
        "mse = mean_squared_error(y_val, y_val_pred)\n",
        "\n",
        "        \n",
        "print(mse)\n",
        "\n",
        "###[[(25, 5), 0.013951703188986222], [(30, 5), 0.013953110885601626], [(35, 5), 0.013955778977497635], [(40, 5), 0.013954656295088592]]\n",
        "###[[(20, 6), 0.013504878249341169], [(25, 6), 0.013506441058236222], [(30, 6), 0.013507098722289695], [(35, 6), 0.013508342630545622]]\n",
        "###[[(22, 8), 0.012997172817037009], [(23, 8), 0.012997331067489487], [(24, 8), 0.012996490557431385], [(25, 8), 0.012998011384284996], [(26, 8), 0.012997558803925946]]\n",
        "###[[(24, 15), 0.012379184674509155]]\n",
        "\n",
        "#--------------------\n",
        "#0.013839936427461699"
      ]
    },
    {
      "cell_type": "code",
      "execution_count": 58,
      "id": "f30c8c95",
      "metadata": {
        "colab": {
          "base_uri": "https://localhost:8080/"
        },
        "id": "f30c8c95",
        "outputId": "f813de43-4c61-48f3-c818-3b1259afe32d"
      },
      "outputs": [
        {
          "output_type": "stream",
          "name": "stdout",
          "text": [
            "Mean Squared Error (MSE): 0.012262615479259626\n"
          ]
        }
      ],
      "source": [
        "# Validate the model with the test df\n",
        "X_test = test_df[feature_columns]\n",
        "y_test = test_df[target_column]\n",
        "\n",
        "y_test_pred = model.predict(X_test)\n",
        "\n",
        "# Calculate evaluation metrics\n",
        "mse = mean_squared_error(y_test, y_test_pred)\n",
        "\n",
        "# Print the evaluation metrics\n",
        "print(\"Mean Squared Error (MSE):\", mse)\n",
        "\n",
        "\n",
        "#results (n_estimators = 100, max_depth=2, random_state=42)\n",
        "#Mean Squared Error (MSE): 0.018518956622416552\n",
        "#RMSE: 0.13608437317494082\n",
        "\n",
        "#RandomForestRegressor(max_depth=15, n_estimators=24)\n",
        "#Mean Squared Error (MSE): 0.015510815928591175\n",
        "#RMSE: 0.12454242621930559\n"
      ]
    },
    {
      "cell_type": "code",
      "execution_count": 59,
      "id": "1a38f602",
      "metadata": {
        "id": "1a38f602"
      },
      "outputs": [],
      "source": [
        "new_df = pd.read_csv(\"metadata_sample_submission.csv\",low_memory=False)\n",
        "new_df['year'] = 2023\n",
        "new_df['date'] = pd.to_datetime(new_df[['year', 'month', 'day']])\n",
        "new_df['weekday'] = new_df['date'].dt.weekday\n",
        "\n",
        "newColumns = pd.read_csv(\"newColumns.csv\",low_memory=False)\n",
        "newColumns = newColumns.rename(columns={\"VALOR_LECTURA\":\"rainPerSqMeter\"})\n"
      ]
    },
    {
      "cell_type": "code",
      "source": [
        "new_df = pd.merge(new_df,newColumns,\n",
        "                how='left',\n",
        "                left_on=['day','month','year','hour'],\n",
        "                right_on=['day','month','year','hour'])\n",
        "\n",
        "X = new_df[feature_columns]\n",
        "\n",
        "y_pred = model.predict(X)\n",
        "\n",
        "print(y_pred)"
      ],
      "metadata": {
        "colab": {
          "base_uri": "https://localhost:8080/"
        },
        "id": "ZXArcr4TSW7r",
        "outputId": "b1019bb9-c8b9-4b82-be7e-32b28316bf5a"
      },
      "id": "ZXArcr4TSW7r",
      "execution_count": 60,
      "outputs": [
        {
          "output_type": "stream",
          "name": "stdout",
          "text": [
            "[0.84019231 0.64813282 0.59649061 ... 0.75075916 0.51823805 0.76006506]\n"
          ]
        }
      ]
    },
    {
      "cell_type": "code",
      "source": [
        "submission = pd.DataFrame(data=y_pred,columns=['percentage_docks_available'])\n",
        "submission['index'] = submission.index"
      ],
      "metadata": {
        "id": "duKKY1DYTUj5"
      },
      "id": "duKKY1DYTUj5",
      "execution_count": 61,
      "outputs": []
    },
    {
      "cell_type": "code",
      "source": [
        "from google.colab import files\n",
        "\n",
        "\n",
        "submission.to_csv(\"submission.csv\",index=False)\n",
        "files.download('submission.csv')"
      ],
      "metadata": {
        "colab": {
          "base_uri": "https://localhost:8080/",
          "height": 17
        },
        "id": "T_5JbgdiTc8O",
        "outputId": "bea86ba5-26f5-4421-f581-a4ad524e7952"
      },
      "id": "T_5JbgdiTc8O",
      "execution_count": 62,
      "outputs": [
        {
          "output_type": "display_data",
          "data": {
            "text/plain": [
              "<IPython.core.display.Javascript object>"
            ],
            "application/javascript": [
              "\n",
              "    async function download(id, filename, size) {\n",
              "      if (!google.colab.kernel.accessAllowed) {\n",
              "        return;\n",
              "      }\n",
              "      const div = document.createElement('div');\n",
              "      const label = document.createElement('label');\n",
              "      label.textContent = `Downloading \"${filename}\": `;\n",
              "      div.appendChild(label);\n",
              "      const progress = document.createElement('progress');\n",
              "      progress.max = size;\n",
              "      div.appendChild(progress);\n",
              "      document.body.appendChild(div);\n",
              "\n",
              "      const buffers = [];\n",
              "      let downloaded = 0;\n",
              "\n",
              "      const channel = await google.colab.kernel.comms.open(id);\n",
              "      // Send a message to notify the kernel that we're ready.\n",
              "      channel.send({})\n",
              "\n",
              "      for await (const message of channel.messages) {\n",
              "        // Send a message to notify the kernel that we're ready.\n",
              "        channel.send({})\n",
              "        if (message.buffers) {\n",
              "          for (const buffer of message.buffers) {\n",
              "            buffers.push(buffer);\n",
              "            downloaded += buffer.byteLength;\n",
              "            progress.value = downloaded;\n",
              "          }\n",
              "        }\n",
              "      }\n",
              "      const blob = new Blob(buffers, {type: 'application/binary'});\n",
              "      const a = document.createElement('a');\n",
              "      a.href = window.URL.createObjectURL(blob);\n",
              "      a.download = filename;\n",
              "      div.appendChild(a);\n",
              "      a.click();\n",
              "      div.remove();\n",
              "    }\n",
              "  "
            ]
          },
          "metadata": {}
        },
        {
          "output_type": "display_data",
          "data": {
            "text/plain": [
              "<IPython.core.display.Javascript object>"
            ],
            "application/javascript": [
              "download(\"download_bf9dca77-9206-4ee9-ac82-13001838ebac\", \"submission.csv\", 1370474)"
            ]
          },
          "metadata": {}
        }
      ]
    },
    {
      "cell_type": "code",
      "source": [
        "import pickle\n",
        "filename = 'finalized_model.sav'\n",
        "pickle.dump(model, open(filename, 'wb'))\n",
        "files.download(filename)"
      ],
      "metadata": {
        "colab": {
          "base_uri": "https://localhost:8080/",
          "height": 17
        },
        "id": "R7ezcKF5V1jC",
        "outputId": "f330f83f-47f3-4386-e2f8-c4c80421ca03"
      },
      "id": "R7ezcKF5V1jC",
      "execution_count": 63,
      "outputs": [
        {
          "output_type": "display_data",
          "data": {
            "text/plain": [
              "<IPython.core.display.Javascript object>"
            ],
            "application/javascript": [
              "\n",
              "    async function download(id, filename, size) {\n",
              "      if (!google.colab.kernel.accessAllowed) {\n",
              "        return;\n",
              "      }\n",
              "      const div = document.createElement('div');\n",
              "      const label = document.createElement('label');\n",
              "      label.textContent = `Downloading \"${filename}\": `;\n",
              "      div.appendChild(label);\n",
              "      const progress = document.createElement('progress');\n",
              "      progress.max = size;\n",
              "      div.appendChild(progress);\n",
              "      document.body.appendChild(div);\n",
              "\n",
              "      const buffers = [];\n",
              "      let downloaded = 0;\n",
              "\n",
              "      const channel = await google.colab.kernel.comms.open(id);\n",
              "      // Send a message to notify the kernel that we're ready.\n",
              "      channel.send({})\n",
              "\n",
              "      for await (const message of channel.messages) {\n",
              "        // Send a message to notify the kernel that we're ready.\n",
              "        channel.send({})\n",
              "        if (message.buffers) {\n",
              "          for (const buffer of message.buffers) {\n",
              "            buffers.push(buffer);\n",
              "            downloaded += buffer.byteLength;\n",
              "            progress.value = downloaded;\n",
              "          }\n",
              "        }\n",
              "      }\n",
              "      const blob = new Blob(buffers, {type: 'application/binary'});\n",
              "      const a = document.createElement('a');\n",
              "      a.href = window.URL.createObjectURL(blob);\n",
              "      a.download = filename;\n",
              "      div.appendChild(a);\n",
              "      a.click();\n",
              "      div.remove();\n",
              "    }\n",
              "  "
            ]
          },
          "metadata": {}
        },
        {
          "output_type": "display_data",
          "data": {
            "text/plain": [
              "<IPython.core.display.Javascript object>"
            ],
            "application/javascript": [
              "download(\"download_1fdbcd34-d0c2-425d-bf32-542f00c1c807\", \"finalized_model.sav\", 76984402)"
            ]
          },
          "metadata": {}
        }
      ]
    }
  ],
  "metadata": {
    "kernelspec": {
      "display_name": "Python 3 (ipykernel)",
      "language": "python",
      "name": "python3"
    },
    "language_info": {
      "codemirror_mode": {
        "name": "ipython",
        "version": 3
      },
      "file_extension": ".py",
      "mimetype": "text/x-python",
      "name": "python",
      "nbconvert_exporter": "python",
      "pygments_lexer": "ipython3",
      "version": "3.9.12"
    },
    "colab": {
      "provenance": []
    }
  },
  "nbformat": 4,
  "nbformat_minor": 5
}