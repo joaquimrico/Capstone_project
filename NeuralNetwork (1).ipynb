{
  "cells": [
    {
      "cell_type": "code",
      "execution_count": 9,
      "metadata": {
        "id": "s2Zrcese4OS_"
      },
      "outputs": [],
      "source": [
        "import pandas as pd\n",
        "import numpy as np\n",
        "\n",
        "df = pd.read_csv(\"final_data_half.csv\",low_memory=False)"
      ]
    },
    {
      "cell_type": "code",
      "execution_count": 10,
      "metadata": {
        "id": "fqnc6MEI5G7n"
      },
      "outputs": [],
      "source": [
        "from sklearn.model_selection import train_test_split\n",
        "\n",
        "# Define the proportion of data for each set\n",
        "test_size = 0.2  # 20% of the data for testing\n",
        "val_size = 0.2   # 20% of the data for validation\n",
        "train_size = 1 - (test_size + val_size)  # Remaining data for training\n",
        "\n",
        "# Split the data into train-validation-test sets\n",
        "train_val_df, test_df = train_test_split(df, test_size=test_size, random_state=42)\n",
        "\n",
        "# Calculate the adjusted validation size based on the remaining data after test split\n",
        "adjusted_val_size = val_size / (train_size + val_size - test_size)\n",
        "\n",
        "# Split the train-validation set into train and validation sets\n",
        "train_df, val_df = train_test_split(train_val_df, test_size=adjusted_val_size, random_state=42)"
      ]
    },
    {
      "cell_type": "code",
      "source": [
        "train_df = pd.DataFrame(data=train_df)\n",
        "val_df = pd.DataFrame(data=val_df)\n",
        "test_df = pd.DataFrame(data=test_df)\n",
        "\n",
        "train_df = train_df.dropna()\n",
        "test_df = test_df.dropna()\n",
        "val_df = val_df.dropna()"
      ],
      "metadata": {
        "colab": {
          "base_uri": "https://localhost:8080/"
        },
        "id": "JMFMv6iU2pmV",
        "outputId": "38963c93-a61b-495c-ff5c-aa749d0733cf"
      },
      "execution_count": 12,
      "outputs": [
        {
          "output_type": "execute_result",
          "data": {
            "text/plain": [
              "(107025, 11)"
            ]
          },
          "metadata": {},
          "execution_count": 12
        }
      ]
    },
    {
      "cell_type": "code",
      "execution_count": 14,
      "metadata": {
        "id": "AFGtS6-m5HAd"
      },
      "outputs": [],
      "source": [
        "from sklearn.preprocessing import StandardScaler\n",
        "\n",
        "feature_columns = ['station_id', 'year', 'month', 'day', 'hour',\n",
        "       'occupation_1h_before', 'occupation_2h_before', 'occupation_3h_before',\n",
        "       'occupation_4h_before']  \n",
        "target_column = 'occupation'  \n",
        "\n",
        "# Separate the features and the target\n",
        "X_train = train_df[feature_columns]\n",
        "y_train = train_df[target_column]\n",
        "\n",
        "X_val = val_df[feature_columns]\n",
        "y_val = val_df[target_column]\n",
        "\n",
        "scaler = StandardScaler()\n",
        "\n",
        "#Scale the train and validation\n",
        "X_train = scaler.fit_transform(X_train)\n",
        "\n",
        "X_val = scaler.transform(X_val)"
      ]
    },
    {
      "cell_type": "code",
      "execution_count": 17,
      "metadata": {
        "colab": {
          "base_uri": "https://localhost:8080/"
        },
        "id": "lqoi57PI5Hap",
        "outputId": "39e3bceb-6c22-4a75-f001-d49c3d368fa7"
      },
      "outputs": [
        {
          "output_type": "stream",
          "name": "stdout",
          "text": [
            "Epoch 1/30\n",
            "21405/21405 [==============================] - 49s 2ms/step - loss: 0.0146 - mse: 0.0146 - val_loss: 0.0138 - val_mse: 0.0138\n",
            "Epoch 2/30\n",
            "21405/21405 [==============================] - 48s 2ms/step - loss: 0.0134 - mse: 0.0134 - val_loss: 0.0134 - val_mse: 0.0134\n",
            "Epoch 3/30\n",
            "21405/21405 [==============================] - 49s 2ms/step - loss: 0.0133 - mse: 0.0133 - val_loss: 0.0134 - val_mse: 0.0134\n",
            "Epoch 4/30\n",
            "21405/21405 [==============================] - 49s 2ms/step - loss: 0.0133 - mse: 0.0133 - val_loss: 0.0133 - val_mse: 0.0133\n",
            "Epoch 5/30\n",
            "21405/21405 [==============================] - 58s 3ms/step - loss: 0.0133 - mse: 0.0133 - val_loss: 0.0132 - val_mse: 0.0132\n",
            "Epoch 6/30\n",
            "21405/21405 [==============================] - 49s 2ms/step - loss: 0.0132 - mse: 0.0132 - val_loss: 0.0133 - val_mse: 0.0133\n",
            "Epoch 7/30\n",
            "21405/21405 [==============================] - 49s 2ms/step - loss: 0.0132 - mse: 0.0132 - val_loss: 0.0132 - val_mse: 0.0132\n",
            "Epoch 8/30\n",
            "21405/21405 [==============================] - 49s 2ms/step - loss: 0.0132 - mse: 0.0132 - val_loss: 0.0134 - val_mse: 0.0134\n",
            "Epoch 9/30\n",
            "21405/21405 [==============================] - 49s 2ms/step - loss: 0.0132 - mse: 0.0132 - val_loss: 0.0134 - val_mse: 0.0134\n",
            "Epoch 10/30\n",
            "21405/21405 [==============================] - 50s 2ms/step - loss: 0.0132 - mse: 0.0132 - val_loss: 0.0132 - val_mse: 0.0132\n",
            "Epoch 11/30\n",
            "21405/21405 [==============================] - 59s 3ms/step - loss: 0.0132 - mse: 0.0132 - val_loss: 0.0136 - val_mse: 0.0136\n",
            "Epoch 12/30\n",
            "21405/21405 [==============================] - 50s 2ms/step - loss: 0.0132 - mse: 0.0132 - val_loss: 0.0133 - val_mse: 0.0133\n",
            "Epoch 13/30\n",
            "21405/21405 [==============================] - 49s 2ms/step - loss: 0.0132 - mse: 0.0132 - val_loss: 0.0132 - val_mse: 0.0132\n",
            "Epoch 14/30\n",
            "21405/21405 [==============================] - 57s 3ms/step - loss: 0.0132 - mse: 0.0132 - val_loss: 0.0133 - val_mse: 0.0133\n",
            "Epoch 15/30\n",
            "21405/21405 [==============================] - 57s 3ms/step - loss: 0.0132 - mse: 0.0132 - val_loss: 0.0132 - val_mse: 0.0132\n",
            "Epoch 16/30\n",
            "21405/21405 [==============================] - 57s 3ms/step - loss: 0.0132 - mse: 0.0132 - val_loss: 0.0132 - val_mse: 0.0132\n",
            "Epoch 17/30\n",
            "21405/21405 [==============================] - 49s 2ms/step - loss: 0.0132 - mse: 0.0132 - val_loss: 0.0133 - val_mse: 0.0133\n",
            "Epoch 18/30\n",
            "21405/21405 [==============================] - 48s 2ms/step - loss: 0.0132 - mse: 0.0132 - val_loss: 0.0132 - val_mse: 0.0132\n",
            "Epoch 19/30\n",
            "21405/21405 [==============================] - 57s 3ms/step - loss: 0.0132 - mse: 0.0132 - val_loss: 0.0133 - val_mse: 0.0133\n",
            "Epoch 20/30\n",
            "21405/21405 [==============================] - 57s 3ms/step - loss: 0.0132 - mse: 0.0132 - val_loss: 0.0133 - val_mse: 0.0133\n",
            "Epoch 21/30\n",
            "21405/21405 [==============================] - 57s 3ms/step - loss: 0.0132 - mse: 0.0132 - val_loss: 0.0132 - val_mse: 0.0132\n",
            "Epoch 22/30\n",
            "21405/21405 [==============================] - 57s 3ms/step - loss: 0.0132 - mse: 0.0132 - val_loss: 0.0135 - val_mse: 0.0135\n",
            "Epoch 23/30\n",
            "21405/21405 [==============================] - 57s 3ms/step - loss: 0.0132 - mse: 0.0132 - val_loss: 0.0133 - val_mse: 0.0133\n",
            "Epoch 24/30\n",
            "21405/21405 [==============================] - 57s 3ms/step - loss: 0.0132 - mse: 0.0132 - val_loss: 0.0133 - val_mse: 0.0133\n",
            "Epoch 25/30\n",
            "21405/21405 [==============================] - 50s 2ms/step - loss: 0.0132 - mse: 0.0132 - val_loss: 0.0133 - val_mse: 0.0133\n",
            "Epoch 26/30\n",
            "21405/21405 [==============================] - 57s 3ms/step - loss: 0.0132 - mse: 0.0132 - val_loss: 0.0134 - val_mse: 0.0134\n",
            "Epoch 27/30\n",
            "21405/21405 [==============================] - 57s 3ms/step - loss: 0.0132 - mse: 0.0132 - val_loss: 0.0133 - val_mse: 0.0133\n",
            "Epoch 28/30\n",
            "21405/21405 [==============================] - 48s 2ms/step - loss: 0.0132 - mse: 0.0132 - val_loss: 0.0133 - val_mse: 0.0133\n",
            "Epoch 29/30\n",
            "21405/21405 [==============================] - 57s 3ms/step - loss: 0.0132 - mse: 0.0132 - val_loss: 0.0133 - val_mse: 0.0133\n",
            "Epoch 30/30\n",
            "21405/21405 [==============================] - 49s 2ms/step - loss: 0.0132 - mse: 0.0132 - val_loss: 0.0135 - val_mse: 0.0135\n"
          ]
        },
        {
          "output_type": "execute_result",
          "data": {
            "text/plain": [
              "<keras.callbacks.History at 0x7f73995b9ed0>"
            ]
          },
          "metadata": {},
          "execution_count": 17
        }
      ],
      "source": [
        "from keras.models import Sequential\n",
        "from keras.layers import Dense,Dropout\n",
        "from sklearn.metrics import mean_squared_error\n",
        "\n",
        "# Create the neural network model\n",
        "model = Sequential()\n",
        "model.add(Dense(9,kernel_initializer='normal', \n",
        "                activation='relu', \n",
        "                input_dim=X_train.shape[1]))\n",
        "model.add(Dense(1, kernel_initializer='normal'))\n",
        "\n",
        "# Compile the model\n",
        "model.compile(loss='mean_squared_error', optimizer='adam',metrics=['mse'])\n",
        "\n",
        "# Train the model\n",
        "model.fit(X_train, y_train, \n",
        "          epochs=30, \n",
        "          batch_size=10, \n",
        "          verbose=1,\n",
        "          validation_data=(X_val, y_val))"
      ]
    },
    {
      "cell_type": "code",
      "execution_count": 18,
      "metadata": {
        "colab": {
          "base_uri": "https://localhost:8080/"
        },
        "id": "ekwQVk5q9UuR",
        "outputId": "77fb3874-afe0-48b0-baa9-5146a2a33b28"
      },
      "outputs": [
        {
          "output_type": "stream",
          "name": "stdout",
          "text": [
            "3345/3345 [==============================] - 5s 1ms/step\n",
            "Mean Squared Error: 0.013517080549826184\n"
          ]
        }
      ],
      "source": [
        "# Make predictions on the test data\n",
        "\n",
        "y_pred = model.predict(X_val)\n",
        "# Evaluate the model's performance\n",
        "mse = mean_squared_error(y_val, y_pred)\n",
        "\n",
        "print(\"Mean Squared Error:\", mse)\n"
      ]
    },
    {
      "cell_type": "code",
      "execution_count": 19,
      "metadata": {
        "id": "p5BFL6km5WVL",
        "colab": {
          "base_uri": "https://localhost:8080/"
        },
        "outputId": "a310a087-56a9-48c5-ce2a-1442577b9885"
      },
      "outputs": [
        {
          "output_type": "stream",
          "name": "stdout",
          "text": [
            "2509/2509 [==============================] - 4s 2ms/step\n",
            "Mean Squared Error (MSE): 0.0132684436566968\n"
          ]
        }
      ],
      "source": [
        "# Validate the model with the test df\n",
        "X_test = test_df[feature_columns]\n",
        "y_test = test_df[target_column]\n",
        "\n",
        "# Scale test data set\n",
        "X_test = scaler.fit_transform(X_test)\n",
        "\n",
        "y_test_pred = model.predict(X_test)\n",
        "\n",
        "# Calculate evaluation metrics\n",
        "mse = mean_squared_error(y_test, y_test_pred)\n",
        "\n",
        "# Print the evaluation metrics\n",
        "print(\"Mean Squared Error (MSE):\", mse)\n"
      ]
    }
  ],
  "metadata": {
    "colab": {
      "provenance": []
    },
    "kernelspec": {
      "display_name": "Python 3",
      "name": "python3"
    },
    "language_info": {
      "name": "python"
    }
  },
  "nbformat": 4,
  "nbformat_minor": 0
}