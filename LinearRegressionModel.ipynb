{
 "cells": [
  {
   "cell_type": "code",
   "execution_count": 1,
   "id": "bd82510a",
   "metadata": {},
   "outputs": [],
   "source": [
    "import pandas as pd\n",
    "import numpy as np\n",
    "\n",
    "df = pd.read_csv(\"final_data.csv\",low_memory=False)"
   ]
  },
  {
   "cell_type": "code",
   "execution_count": 2,
   "id": "928f1b35",
   "metadata": {},
   "outputs": [],
   "source": [
    "from sklearn.model_selection import train_test_split\n",
    "\n",
    "# Define the proportion of data for each set\n",
    "test_size = 0.2  # 20% of the data for testing\n",
    "val_size = 0.2   # 20% of the data for validation\n",
    "train_size = 1 - (test_size + val_size)  # Remaining data for training\n",
    "\n",
    "# Split the data into train-validation-test sets\n",
    "train_val_df, test_df = train_test_split(df, test_size=test_size, random_state=42)\n",
    "\n",
    "# Calculate the adjusted validation size based on the remaining data after test split\n",
    "adjusted_val_size = val_size / (train_size + val_size - test_size)\n",
    "\n",
    "# Split the train-validation set into train and validation sets\n",
    "train_df, val_df = train_test_split(train_val_df, test_size=adjusted_val_size, random_state=42)\n"
   ]
  },
  {
   "cell_type": "code",
   "execution_count": 3,
   "id": "94f5d3f0",
   "metadata": {},
   "outputs": [
    {
     "data": {
      "text/plain": [
       "LinearRegression()"
      ]
     },
     "execution_count": 3,
     "metadata": {},
     "output_type": "execute_result"
    }
   ],
   "source": [
    "from sklearn.linear_model import LinearRegression\n",
    "from sklearn.metrics import mean_squared_error, r2_score\n",
    "\n",
    "# Specify the feature columns and the target column\n",
    "feature_columns = ['station_id', 'year', 'month', 'day', 'hour',\n",
    "       'occupation_1h_before', 'occupation_2h_before', 'occupation_3h_before',\n",
    "       'occupation_4h_before']  # Replace with the names of your feature columns\n",
    "target_column = 'occupation'  # Replace with the name of your target column\n",
    "\n",
    "# Separate the features and the target\n",
    "X_train = train_df[feature_columns]\n",
    "y_train = train_df[target_column]\n",
    "\n",
    "# Create an instance of the LinearRegression model\n",
    "model = LinearRegression()\n",
    "\n",
    "# Train the linear model\n",
    "model.fit(X_train, y_train)"
   ]
  },
  {
   "cell_type": "code",
   "execution_count": 4,
   "id": "f30c8c95",
   "metadata": {},
   "outputs": [
    {
     "name": "stdout",
     "output_type": "stream",
     "text": [
      "Mean Squared Error (MSE): 0.013813516746182359\n",
      "R-squared (R²) Score: 0.8443690207727182\n",
      "RMSE: 0.11753091825635652\n"
     ]
    }
   ],
   "source": [
    "# Validate the model with the validation df\n",
    "X_val = val_df[feature_columns]\n",
    "y_val = val_df[target_column]\n",
    "\n",
    "y_val_pred = model.predict(X_val)\n",
    "\n",
    "# Calculate evaluation metrics\n",
    "mse = mean_squared_error(y_val, y_val_pred)\n",
    "r2 = r2_score(y_val, y_val_pred)\n",
    "rmse = np.sqrt(mse)\n",
    "# Print the evaluation metrics\n",
    "print(\"Mean Squared Error (MSE):\", mse)\n",
    "print(\"R-squared (R²) Score:\", r2)\n",
    "print(\"RMSE:\",rmse)\n",
    "\n",
    "#standarazin occupation columns\n",
    "#Mean Squared Error (MSE): 0.013813516746182359\n",
    "#R-squared (R²) Score: 0.8443690207727182\n",
    "#RMSE: 0.11753091825635652\n"
   ]
  },
  {
   "cell_type": "code",
   "execution_count": null,
   "id": "1a38f602",
   "metadata": {},
   "outputs": [],
   "source": []
  }
 ],
 "metadata": {
  "kernelspec": {
   "display_name": "Python 3 (ipykernel)",
   "language": "python",
   "name": "python3"
  },
  "language_info": {
   "codemirror_mode": {
    "name": "ipython",
    "version": 3
   },
   "file_extension": ".py",
   "mimetype": "text/x-python",
   "name": "python",
   "nbconvert_exporter": "python",
   "pygments_lexer": "ipython3",
   "version": "3.9.12"
  }
 },
 "nbformat": 4,
 "nbformat_minor": 5
}
