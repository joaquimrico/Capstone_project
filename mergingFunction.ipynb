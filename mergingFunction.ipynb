{
 "cells": [
  {
   "cell_type": "code",
   "execution_count": 1,
   "id": "6511fa6b",
   "metadata": {},
   "outputs": [
    {
     "name": "stderr",
     "output_type": "stream",
     "text": [
      "/var/folders/38/yf_zsvs16cj8b58zkxz6nb6r0000gp/T/ipykernel_1630/677467445.py:19: FutureWarning: The frame.append method is deprecated and will be removed from pandas in a future version. Use pandas.concat instead.\n",
      "  final_df = final_df.append(sampled_df, ignore_index=True)\n",
      "/var/folders/38/yf_zsvs16cj8b58zkxz6nb6r0000gp/T/ipykernel_1630/677467445.py:19: FutureWarning: The frame.append method is deprecated and will be removed from pandas in a future version. Use pandas.concat instead.\n",
      "  final_df = final_df.append(sampled_df, ignore_index=True)\n",
      "/var/folders/38/yf_zsvs16cj8b58zkxz6nb6r0000gp/T/ipykernel_1630/677467445.py:19: FutureWarning: The frame.append method is deprecated and will be removed from pandas in a future version. Use pandas.concat instead.\n",
      "  final_df = final_df.append(sampled_df, ignore_index=True)\n",
      "/var/folders/38/yf_zsvs16cj8b58zkxz6nb6r0000gp/T/ipykernel_1630/677467445.py:19: FutureWarning: The frame.append method is deprecated and will be removed from pandas in a future version. Use pandas.concat instead.\n",
      "  final_df = final_df.append(sampled_df, ignore_index=True)\n",
      "/var/folders/38/yf_zsvs16cj8b58zkxz6nb6r0000gp/T/ipykernel_1630/677467445.py:19: FutureWarning: The frame.append method is deprecated and will be removed from pandas in a future version. Use pandas.concat instead.\n",
      "  final_df = final_df.append(sampled_df, ignore_index=True)\n",
      "/var/folders/38/yf_zsvs16cj8b58zkxz6nb6r0000gp/T/ipykernel_1630/677467445.py:19: FutureWarning: The frame.append method is deprecated and will be removed from pandas in a future version. Use pandas.concat instead.\n",
      "  final_df = final_df.append(sampled_df, ignore_index=True)\n",
      "/var/folders/38/yf_zsvs16cj8b58zkxz6nb6r0000gp/T/ipykernel_1630/677467445.py:19: FutureWarning: The frame.append method is deprecated and will be removed from pandas in a future version. Use pandas.concat instead.\n",
      "  final_df = final_df.append(sampled_df, ignore_index=True)\n",
      "/var/folders/38/yf_zsvs16cj8b58zkxz6nb6r0000gp/T/ipykernel_1630/677467445.py:19: FutureWarning: The frame.append method is deprecated and will be removed from pandas in a future version. Use pandas.concat instead.\n",
      "  final_df = final_df.append(sampled_df, ignore_index=True)\n",
      "/var/folders/38/yf_zsvs16cj8b58zkxz6nb6r0000gp/T/ipykernel_1630/677467445.py:19: FutureWarning: The frame.append method is deprecated and will be removed from pandas in a future version. Use pandas.concat instead.\n",
      "  final_df = final_df.append(sampled_df, ignore_index=True)\n",
      "/var/folders/38/yf_zsvs16cj8b58zkxz6nb6r0000gp/T/ipykernel_1630/677467445.py:19: FutureWarning: The frame.append method is deprecated and will be removed from pandas in a future version. Use pandas.concat instead.\n",
      "  final_df = final_df.append(sampled_df, ignore_index=True)\n",
      "/var/folders/38/yf_zsvs16cj8b58zkxz6nb6r0000gp/T/ipykernel_1630/677467445.py:19: FutureWarning: The frame.append method is deprecated and will be removed from pandas in a future version. Use pandas.concat instead.\n",
      "  final_df = final_df.append(sampled_df, ignore_index=True)\n",
      "/var/folders/38/yf_zsvs16cj8b58zkxz6nb6r0000gp/T/ipykernel_1630/677467445.py:19: FutureWarning: The frame.append method is deprecated and will be removed from pandas in a future version. Use pandas.concat instead.\n",
      "  final_df = final_df.append(sampled_df, ignore_index=True)\n",
      "/var/folders/38/yf_zsvs16cj8b58zkxz6nb6r0000gp/T/ipykernel_1630/677467445.py:19: FutureWarning: The frame.append method is deprecated and will be removed from pandas in a future version. Use pandas.concat instead.\n",
      "  final_df = final_df.append(sampled_df, ignore_index=True)\n",
      "/var/folders/38/yf_zsvs16cj8b58zkxz6nb6r0000gp/T/ipykernel_1630/677467445.py:19: FutureWarning: The frame.append method is deprecated and will be removed from pandas in a future version. Use pandas.concat instead.\n",
      "  final_df = final_df.append(sampled_df, ignore_index=True)\n",
      "/var/folders/38/yf_zsvs16cj8b58zkxz6nb6r0000gp/T/ipykernel_1630/677467445.py:19: FutureWarning: The frame.append method is deprecated and will be removed from pandas in a future version. Use pandas.concat instead.\n",
      "  final_df = final_df.append(sampled_df, ignore_index=True)\n",
      "/var/folders/38/yf_zsvs16cj8b58zkxz6nb6r0000gp/T/ipykernel_1630/677467445.py:19: FutureWarning: The frame.append method is deprecated and will be removed from pandas in a future version. Use pandas.concat instead.\n",
      "  final_df = final_df.append(sampled_df, ignore_index=True)\n",
      "/var/folders/38/yf_zsvs16cj8b58zkxz6nb6r0000gp/T/ipykernel_1630/677467445.py:19: FutureWarning: The frame.append method is deprecated and will be removed from pandas in a future version. Use pandas.concat instead.\n",
      "  final_df = final_df.append(sampled_df, ignore_index=True)\n",
      "/var/folders/38/yf_zsvs16cj8b58zkxz6nb6r0000gp/T/ipykernel_1630/677467445.py:19: FutureWarning: The frame.append method is deprecated and will be removed from pandas in a future version. Use pandas.concat instead.\n",
      "  final_df = final_df.append(sampled_df, ignore_index=True)\n",
      "/var/folders/38/yf_zsvs16cj8b58zkxz6nb6r0000gp/T/ipykernel_1630/677467445.py:19: FutureWarning: The frame.append method is deprecated and will be removed from pandas in a future version. Use pandas.concat instead.\n",
      "  final_df = final_df.append(sampled_df, ignore_index=True)\n",
      "/var/folders/38/yf_zsvs16cj8b58zkxz6nb6r0000gp/T/ipykernel_1630/677467445.py:19: FutureWarning: The frame.append method is deprecated and will be removed from pandas in a future version. Use pandas.concat instead.\n",
      "  final_df = final_df.append(sampled_df, ignore_index=True)\n",
      "/var/folders/38/yf_zsvs16cj8b58zkxz6nb6r0000gp/T/ipykernel_1630/677467445.py:19: FutureWarning: The frame.append method is deprecated and will be removed from pandas in a future version. Use pandas.concat instead.\n",
      "  final_df = final_df.append(sampled_df, ignore_index=True)\n",
      "/var/folders/38/yf_zsvs16cj8b58zkxz6nb6r0000gp/T/ipykernel_1630/677467445.py:19: FutureWarning: The frame.append method is deprecated and will be removed from pandas in a future version. Use pandas.concat instead.\n",
      "  final_df = final_df.append(sampled_df, ignore_index=True)\n",
      "/var/folders/38/yf_zsvs16cj8b58zkxz6nb6r0000gp/T/ipykernel_1630/677467445.py:19: FutureWarning: The frame.append method is deprecated and will be removed from pandas in a future version. Use pandas.concat instead.\n",
      "  final_df = final_df.append(sampled_df, ignore_index=True)\n",
      "/var/folders/38/yf_zsvs16cj8b58zkxz6nb6r0000gp/T/ipykernel_1630/677467445.py:19: FutureWarning: The frame.append method is deprecated and will be removed from pandas in a future version. Use pandas.concat instead.\n",
      "  final_df = final_df.append(sampled_df, ignore_index=True)\n"
     ]
    }
   ],
   "source": [
    "import os\n",
    "import random\n",
    "import pandas as pd\n",
    "\n",
    "folder_path = os.getcwd()\n",
    "\n",
    "def select_random_rows(csv_file, fraction=1):\n",
    "    df = pd.read_csv(csv_file)\n",
    "    num_rows = int(df.shape[0] * fraction)\n",
    "    random_rows = random.sample(range(df.shape[0]), num_rows)\n",
    "    return df.iloc[random_rows]\n",
    "\n",
    "final_df = pd.DataFrame()\n",
    "\n",
    "for filename in os.listdir(folder_path):\n",
    "    if filename.endswith('.csv'):\n",
    "        csv_file = os.path.join(folder_path, filename)\n",
    "        sampled_df = select_random_rows(csv_file)\n",
    "        final_df = final_df.append(sampled_df, ignore_index=True)\n",
    "\n",
    "final_df.to_csv('final_data.csv', index=False)"
   ]
  },
  {
   "cell_type": "code",
   "execution_count": null,
   "id": "f23d9e59",
   "metadata": {},
   "outputs": [],
   "source": []
  },
  {
   "cell_type": "code",
   "execution_count": null,
   "id": "2599d87b",
   "metadata": {},
   "outputs": [],
   "source": []
  }
 ],
 "metadata": {
  "kernelspec": {
   "display_name": "Python 3 (ipykernel)",
   "language": "python",
   "name": "python3"
  },
  "language_info": {
   "codemirror_mode": {
    "name": "ipython",
    "version": 3
   },
   "file_extension": ".py",
   "mimetype": "text/x-python",
   "name": "python",
   "nbconvert_exporter": "python",
   "pygments_lexer": "ipython3",
   "version": "3.9.12"
  }
 },
 "nbformat": 4,
 "nbformat_minor": 5
}
